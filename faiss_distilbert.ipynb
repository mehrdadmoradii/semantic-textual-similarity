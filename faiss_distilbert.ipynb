{
  "nbformat": 4,
  "nbformat_minor": 0,
  "metadata": {
    "colab": {
      "name": "faiss_distilbert.ipynb",
      "provenance": []
    },
    "kernelspec": {
      "name": "python3",
      "display_name": "Python 3"
    },
    "language_info": {
      "name": "python"
    }
  },
  "cells": [
    {
      "cell_type": "code",
      "execution_count": null,
      "metadata": {
        "id": "rbN8zsnB-ftA"
      },
      "outputs": [],
      "source": [
        "!pip install faiss-cpu\n",
        "!pip install transformers"
      ]
    },
    {
      "cell_type": "code",
      "source": [
        "import json\n",
        "from pprint import pprint\n",
        "import faiss\n",
        "import torch\n",
        "import numpy as np\n",
        "from transformers import AutoModel, AutoTokenizer"
      ],
      "metadata": {
        "id": "jCqMzEHP-jYX"
      },
      "execution_count": 6,
      "outputs": []
    },
    {
      "cell_type": "code",
      "source": [
        "with open('sentences.json', 'r') as f:\n",
        "  dataset = json.load(f)"
      ],
      "metadata": {
        "id": "GJpaZ0-I-on9"
      },
      "execution_count": 4,
      "outputs": []
    },
    {
      "cell_type": "code",
      "source": [
        "model_name = 'distilbert-base-uncased'\n",
        "\n",
        "tokenizer = AutoTokenizer.from_pretrained(model_name)\n",
        "model = AutoModel.from_pretrained(model_name)"
      ],
      "metadata": {
        "id": "ZqP_itGt-5zY"
      },
      "execution_count": null,
      "outputs": []
    },
    {
      "cell_type": "code",
      "source": [
        "def encode(document: str) -> torch.Tensor:\n",
        "  tokens = tokenizer(document, return_tensors='pt')\n",
        "  vector = model(**tokens)[0].detach().squeeze()\n",
        "  return torch.mean(vector, dim=0)"
      ],
      "metadata": {
        "id": "kHYnMD-v_POO"
      },
      "execution_count": 7,
      "outputs": []
    },
    {
      "cell_type": "code",
      "source": [
        "vectors = [encode(d) for d in dataset]"
      ],
      "metadata": {
        "id": "2pg3r40r_esz"
      },
      "execution_count": 9,
      "outputs": []
    },
    {
      "cell_type": "code",
      "source": [
        "index = faiss.IndexIDMap(faiss.IndexFlatIP(768)) # the size of our vector space\n",
        "\n",
        "index.add_with_ids(\n",
        "    np.array([t.numpy() for t in vectors]),\n",
        "    np.array(range(0, len(dataset)))\n",
        ")"
      ],
      "metadata": {
        "id": "2897Sseh_k-p"
      },
      "execution_count": 13,
      "outputs": []
    },
    {
      "cell_type": "code",
      "source": [
        "def search(query: str, k=1):\n",
        "  encoded_query = encode(query).unsqueeze(dim=0).numpy()\n",
        "  top_k = index.search(encoded_query, k)\n",
        "  scores = top_k[0][0]\n",
        "  results = [dataset[_id] for _id in top_k[1][0]]\n",
        "  return list(zip(results, scores))"
      ],
      "metadata": {
        "id": "U32PG_YR_41s"
      },
      "execution_count": 15,
      "outputs": []
    },
    {
      "cell_type": "code",
      "source": [
        "pprint(search(\"spanish flu casualties\", k=2))"
      ],
      "metadata": {
        "colab": {
          "base_uri": "https://localhost:8080/"
        },
        "id": "AplO6EHB_8Vg",
        "outputId": "dd398f8f-43da-4a61-ae26-247bf077ec70"
      },
      "execution_count": 16,
      "outputs": [
        {
          "output_type": "stream",
          "name": "stdout",
          "text": [
            "[('The Spanish flu, also known as the 1918 flu pandemic, was an unusually '\n",
            "  'deadly influenza pandemic caused by the H1N1 influenza A virus.',\n",
            "  51.069515),\n",
            " ('As of 2018, approximately 37.9 million people are infected with HIV '\n",
            "  'globally.',\n",
            "  45.203125)]\n"
          ]
        }
      ]
    }
  ]
}